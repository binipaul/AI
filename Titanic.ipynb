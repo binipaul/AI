{
  "nbformat": 4,
  "nbformat_minor": 0,
  "metadata": {
    "colab": {
      "name": "Titanic.ipynb",
      "version": "0.3.2",
      "provenance": [],
      "include_colab_link": true
    },
    "kernelspec": {
      "name": "python3",
      "display_name": "Python 3"
    }
  },
  "cells": [
    {
      "cell_type": "markdown",
      "metadata": {
        "id": "view-in-github",
        "colab_type": "text"
      },
      "source": [
        "<a href=\"https://colab.research.google.com/github/binipaul/AI/blob/master/Titanic.ipynb\" target=\"_parent\"><img src=\"https://colab.research.google.com/assets/colab-badge.svg\" alt=\"Open In Colab\"/></a>"
      ]
    },
    {
      "cell_type": "code",
      "metadata": {
        "id": "18wsJSurPp4f",
        "colab_type": "code",
        "colab": {}
      },
      "source": [
        "# Load libraries\n",
        "import pandas\n",
        "from pandas.plotting import scatter_matrix\n",
        "import matplotlib.pyplot as plt\n",
        "from sklearn import model_selection\n",
        "from sklearn.metrics import classification_report\n",
        "from sklearn.metrics import confusion_matrix\n",
        "from sklearn.metrics import accuracy_score\n",
        "from sklearn.linear_model import LogisticRegression\n",
        "from sklearn.tree import DecisionTreeClassifier\n",
        "from sklearn.neighbors import KNeighborsClassifier\n",
        "from sklearn.discriminant_analysis import LinearDiscriminantAnalysis\n",
        "from sklearn.naive_bayes import GaussianNB\n",
        "from sklearn.svm import SVC"
      ],
      "execution_count": 0,
      "outputs": []
    },
    {
      "cell_type": "code",
      "metadata": {
        "id": "6W7iUgrtPvYj",
        "colab_type": "code",
        "colab": {
          "base_uri": "https://localhost:8080/",
          "height": 246
        },
        "outputId": "89fa9719-9bbd-411b-baa2-58d34c77264e"
      },
      "source": [
        "url_train = 'https://raw.githubusercontent.com/binipaul/AI/master/train.csv'\n",
        "dataset = pd.read_csv(url_train)\n",
        "print (dataset.head())\n",
        "print (type(dataset))\n",
        "print(dataset.groupby('Survived').size())"
      ],
      "execution_count": 121,
      "outputs": [
        {
          "output_type": "stream",
          "text": [
            "   PassengerId  Survived  Pclass  ...     Fare Cabin  Embarked\n",
            "0            1         0       3  ...   7.2500   NaN         S\n",
            "1            2         1       1  ...  71.2833   C85         C\n",
            "2            3         1       3  ...   7.9250   NaN         S\n",
            "3            4         1       1  ...  53.1000  C123         S\n",
            "4            5         0       3  ...   8.0500   NaN         S\n",
            "\n",
            "[5 rows x 12 columns]\n",
            "<class 'pandas.core.frame.DataFrame'>\n",
            "Survived\n",
            "0    549\n",
            "1    342\n",
            "dtype: int64\n"
          ],
          "name": "stdout"
        }
      ]
    },
    {
      "cell_type": "code",
      "metadata": {
        "id": "nCoQSzECRb3E",
        "colab_type": "code",
        "colab": {}
      },
      "source": [
        "dataset = dataset.drop([\"Name\",\"Cabin\",\"Fare\"],axis = 1)\n"
      ],
      "execution_count": 0,
      "outputs": []
    },
    {
      "cell_type": "code",
      "metadata": {
        "id": "PdjcKgQBR71k",
        "colab_type": "code",
        "colab": {
          "base_uri": "https://localhost:8080/",
          "height": 34
        },
        "outputId": "af6f109b-7c66-49a1-f3af-0f6cef4b8607"
      },
      "source": [
        "dataset=dataset.dropna()\n",
        "print (len(dataset))"
      ],
      "execution_count": 122,
      "outputs": [
        {
          "output_type": "stream",
          "text": [
            "183\n"
          ],
          "name": "stdout"
        }
      ]
    },
    {
      "cell_type": "code",
      "metadata": {
        "id": "6a5i7WuKSlHc",
        "colab_type": "code",
        "colab": {}
      },
      "source": [
        "dataset=dataset.fillna(method ='pad')\n",
        "#dataset.isnull()"
      ],
      "execution_count": 0,
      "outputs": []
    },
    {
      "cell_type": "code",
      "metadata": {
        "id": "aJPkoYFDTgkp",
        "colab_type": "code",
        "colab": {
          "base_uri": "https://localhost:8080/",
          "height": 70
        },
        "outputId": "8f2bfc59-bad5-4df3-ecee-335ea83d4ec2"
      },
      "source": [
        "\"\"\"bool_series = pd.isnull(dataset[\"Age\"]) \n",
        "print (type(bool_series))\n",
        "  \n",
        "for i in dataset[bool_series]:\n",
        "  print (i)\n",
        "\n",
        "for j in dataset[dataset.Age.isnull()]:\n",
        "  print (dataset[j])\n",
        "  \"\"\"\n",
        "print(dataset.head(0))"
      ],
      "execution_count": 59,
      "outputs": [
        {
          "output_type": "stream",
          "text": [
            "Empty DataFrame\n",
            "Columns: [PassengerId, Survived, Pclass, Sex, Age, SibSp, Parch, Ticket, Embarked]\n",
            "Index: []\n"
          ],
          "name": "stdout"
        }
      ]
    },
    {
      "cell_type": "code",
      "metadata": {
        "id": "XCyeXgKDYvYR",
        "colab_type": "code",
        "colab": {}
      },
      "source": [
        "from sklearn.preprocessing import LabelEncoder\n",
        "\n",
        "le = LabelEncoder()\n",
        "\n",
        "for column in dataset.columns:\n",
        "    if dataset[column].dtype == type(object):\n",
        "        le = LabelEncoder()\n",
        "        dataset[column] = le.fit_transform(dataset[column])\n",
        "#array = dataset.values\n",
        "X= dataset[[ 'Pclass','Sex', 'Age']]\n",
        "Y = dataset.Survived\n",
        "#print (Y)\n",
        "from sklearn import model_selection\n",
        "X_train,X_validation,Y_train,Y_validation = model_selection.train_test_split(X,Y,test_size = 0.10, random_state = 7)"
      ],
      "execution_count": 0,
      "outputs": []
    },
    {
      "cell_type": "code",
      "metadata": {
        "id": "8LD_f8YXyyPu",
        "colab_type": "code",
        "colab": {
          "base_uri": "https://localhost:8080/",
          "height": 122
        },
        "outputId": "b0d92f74-0352-4308-9d91-53c20c89dfcd"
      },
      "source": [
        "# Test options and evaluation metric\n",
        "seed = 10\n",
        "scoring = 'accuracy'\n",
        "# Spot Check Algorithms\n",
        "models = []\n",
        "models.append(('LR', LogisticRegression(solver='liblinear', multi_class='ovr')))\n",
        "models.append(('LDA', LinearDiscriminantAnalysis()))\n",
        "models.append(('KNN', KNeighborsClassifier()))\n",
        "models.append(('CART', DecisionTreeClassifier()))\n",
        "models.append(('NB', GaussianNB()))\n",
        "models.append(('SVM', SVC(gamma='auto')))\n",
        "# evaluate each model in turn\n",
        "results = []\n",
        "names = []\n",
        "for name, model in models:\n",
        "\tkfold = model_selection.KFold(n_splits=10, random_state=seed)\n",
        "\tcv_results = model_selection.cross_val_score(model, X, Y, cv=kfold, scoring=scoring)\n",
        "\tresults.append(cv_results)\n",
        "\tnames.append(name)\n",
        "\tmsg = \"%s: %f (%f)\" % (name, cv_results.mean(), cv_results.std())\n",
        "\tprint(msg)"
      ],
      "execution_count": 140,
      "outputs": [
        {
          "output_type": "stream",
          "text": [
            "LR: 0.753801 (0.127371)\n",
            "LDA: 0.753509 (0.123002)\n",
            "KNN: 0.723099 (0.136460)\n",
            "CART: 0.792982 (0.098054)\n",
            "NB: 0.769591 (0.129706)\n",
            "SVM: 0.755848 (0.121816)\n"
          ],
          "name": "stdout"
        }
      ]
    },
    {
      "cell_type": "code",
      "metadata": {
        "id": "BTrfe2yggCiD",
        "colab_type": "code",
        "colab": {
          "base_uri": "https://localhost:8080/",
          "height": 70
        },
        "outputId": "51939261-1f95-4d69-e770-efa7d7c66083"
      },
      "source": [
        "from sklearn.tree import DecisionTreeClassifier\n",
        "kfold = model_selection.KFold(n_splits = 10, random_state = 7)\n",
        "cv_results = model_selection.cross_val_score(DecisionTreeClassifier(), X, Y, cv=kfold, scoring='accuracy')\n",
        "print (cv_results)\n",
        "print (cv_results.mean())"
      ],
      "execution_count": 141,
      "outputs": [
        {
          "output_type": "stream",
          "text": [
            "[0.89473684 0.73684211 0.63157895 0.94444444 0.83333333 0.88888889\n",
            " 0.77777778 0.66666667 0.72222222 0.83333333]\n",
            "0.7929824561403509\n"
          ],
          "name": "stdout"
        }
      ]
    },
    {
      "cell_type": "code",
      "metadata": {
        "id": "SZOILlDa0QN2",
        "colab_type": "code",
        "colab": {
          "base_uri": "https://localhost:8080/",
          "height": 193
        },
        "outputId": "d9be763e-a85b-4cbe-803a-90d8f93994f0"
      },
      "source": [
        "#import testing data\n",
        "url_test = 'https://raw.githubusercontent.com/binipaul/AI/master/test.csv'\n",
        "datatest = pd.read_csv(url_test)\n",
        "print (datatest.head())\n",
        "print (type(datatest))\n",
        "print (len(datatest))\n"
      ],
      "execution_count": 153,
      "outputs": [
        {
          "output_type": "stream",
          "text": [
            "   PassengerId  Pclass  ... Cabin Embarked\n",
            "0          892       3  ...   NaN        Q\n",
            "1          893       3  ...   NaN        S\n",
            "2          894       2  ...   NaN        Q\n",
            "3          895       3  ...   NaN        S\n",
            "4          896       3  ...   NaN        S\n",
            "\n",
            "[5 rows x 11 columns]\n",
            "<class 'pandas.core.frame.DataFrame'>\n",
            "418\n"
          ],
          "name": "stdout"
        }
      ]
    },
    {
      "cell_type": "code",
      "metadata": {
        "id": "lOk0MhEh04nm",
        "colab_type": "code",
        "colab": {
          "base_uri": "https://localhost:8080/",
          "height": 34
        },
        "outputId": "a166f23c-ff2a-4541-c90f-67b08eca69ea"
      },
      "source": [
        "\n",
        "datatest=datatest.fillna(method ='pad')\n",
        "datatest=datatest.dropna()\n",
        "print (len(datatest))\n",
        "from sklearn.preprocessing import LabelEncoder\n",
        "\n",
        "le = LabelEncoder()\n",
        "\n",
        "for column in datatest.columns:\n",
        "    if datatest[column].dtype == type(object):\n",
        "        le = LabelEncoder()\n",
        "        datatest[column] = le.fit_transform(datatest[column])\n",
        "#array = dataset.values\n",
        "X_test= datatest[[ 'Pclass','Sex', 'Age']]"
      ],
      "execution_count": 154,
      "outputs": [
        {
          "output_type": "stream",
          "text": [
            "406\n"
          ],
          "name": "stdout"
        }
      ]
    },
    {
      "cell_type": "code",
      "metadata": {
        "id": "jTPKMkb-2FKc",
        "colab_type": "code",
        "colab": {
          "base_uri": "https://localhost:8080/",
          "height": 210
        },
        "outputId": "9a467d25-0225-426f-a3fb-073ff73767ce"
      },
      "source": [
        "# Make predictions on validation dataset\n",
        "dtc = DecisionTreeClassifier()\n",
        "dtc.fit(X, Y)\n",
        "predictions = dtc.predict(X_test)\n",
        "\n",
        "print( predictions)"
      ],
      "execution_count": 156,
      "outputs": [
        {
          "output_type": "stream",
          "text": [
            "[1 0 1 1 1 0 1 0 0 1 1 0 1 0 1 0 0 0 0 0 0 0 0 0 1 1 0 0 0 0 0 1 1 0 0 0 1\n",
            " 0 0 1 1 1 1 1 1 0 0 1 1 1 0 1 1 1 1 0 0 1 1 0 0 1 1 1 1 1 0 1 1 0 1 1 1 1\n",
            " 1 1 1 1 1 0 0 0 1 0 1 0 1 0 1 1 0 0 1 0 0 0 0 0 0 0 1 1 1 0 0 0 1 1 1 1 1\n",
            " 0 0 1 0 1 0 0 1 0 0 0 0 0 0 1 1 0 1 1 0 1 1 0 0 0 0 0 1 0 1 0 1 0 1 1 1 1\n",
            " 1 1 1 0 0 1 1 0 1 1 0 0 0 0 0 1 1 0 1 1 0 0 1 0 0 0 1 1 1 0 1 1 1 0 1 0 1\n",
            " 1 1 1 1 1 0 1 1 1 0 0 1 0 1 1 1 0 0 1 0 0 0 0 1 0 1 0 1 0 0 1 0 0 1 1 0 0\n",
            " 0 0 0 0 1 1 1 1 0 0 0 0 1 0 1 0 0 0 1 0 1 1 1 0 1 0 0 0 1 0 0 0 0 0 0 1 0\n",
            " 0 0 1 0 1 1 0 0 0 1 1 0 1 0 0 0 0 0 0 0 0 0 0 0 0 0 1 0 0 1 1 0 0 1 1 0 1\n",
            " 0 0 0 0 0 0 1 1 0 0 0 0 0 0 1 0 1 0 1 0 0 0 0 0 0 1 0 0 1 0 1 0 0 1 1 1 0\n",
            " 1 1 0 0 1 1 1 0 1 0 0 1 0 0 0 1 1 1 0 0 1 0 1 1 0 0 1 1 0 1 1 1 0 0 1 1 0\n",
            " 1 1 0 1 0 0 0 1 1 1 1 0 0 1 0 1 0 0 1 0 1 1 1 0 1 0 0 0 0 1 1 0 1 0 0 0]\n"
          ],
          "name": "stdout"
        }
      ]
    }
  ]
}